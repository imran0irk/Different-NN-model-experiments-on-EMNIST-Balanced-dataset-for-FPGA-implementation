{
 "cells": [
  {
   "cell_type": "code",
   "execution_count": 1,
   "id": "19a59457-6f70-43e1-85f0-2e7a69777458",
   "metadata": {
    "tags": []
   },
   "outputs": [],
   "source": [
    "from __future__ import absolute_import\n",
    "from __future__ import division\n",
    "from __future__ import print_function"
   ]
  },
  {
   "cell_type": "code",
   "execution_count": 2,
   "id": "3bda884c-b5f3-4fe6-aeb7-b386ad185a8a",
   "metadata": {
    "tags": []
   },
   "outputs": [],
   "source": [
    "import os\n",
    "import tempfile\n",
    "from collections import defaultdict\n",
    "\n",
    "import numpy as np\n",
    "import tensorflow as tf\n",
    "import tensorflow.keras.backend as K\n",
    "\n",
    "from tensorflow import keras\n",
    "from tensorflow.keras.layers import *\n",
    "from tensorflow.keras.layers import Activation\n",
    "from tensorflow.keras.layers import Flatten\n",
    "from tensorflow.keras.layers import Input\n",
    "from tensorflow.keras.layers import Lambda\n",
    "from tensorflow.keras.models import Model\n",
    "from tensorflow.keras.models import Sequential\n",
    "from tensorflow.keras.models import save_model, load_model\n",
    "from tensorflow.keras.utils import to_categorical\n",
    "from tensorflow.keras.optimizers import SGD\n",
    "from tensorflow.keras.optimizers import Adam\n",
    "from tensorflow.keras.utils import custom_object_scope"
   ]
  },
  {
   "cell_type": "code",
   "execution_count": 3,
   "id": "c82f23ee-f837-4222-9d46-7e9bffdb6aad",
   "metadata": {
    "tags": []
   },
   "outputs": [],
   "source": [
    "from qkeras import *\n",
    "from qkeras import QActivation\n",
    "from qkeras import QDense\n",
    "from qkeras import QConv2D\n",
    "from qkeras import quantized_bits, quantized_relu\n",
    "from qkeras.utils import load_qmodel\n",
    "from qkeras.utils import print_model_sparsity\n",
    "from qkeras.utils import model_save_quantized_weights"
   ]
  },
  {
   "cell_type": "code",
   "execution_count": 4,
   "id": "fe19b33a-8ca9-4013-a808-d9763e7631d7",
   "metadata": {
    "tags": []
   },
   "outputs": [],
   "source": [
    "NB_EPOCH = 30\n",
    "BATCH_SIZE = 64\n",
    "VERBOSE = 1\n",
    "NB_CLASSES = 10\n",
    "VALIDATION_SPLIT = 0.1\n",
    "OPTIMIZER = Adam(learning_rate=0.001)\n",
    "#OPTIMIZER = SGD(learning_rate=0.001, momentum=0.9)\n",
    "\n",
    "W = 4  #QConv2d q_bit\n",
    "I = 0\n",
    "Z = float(4)  #QActivation quantize_bit"
   ]
  },
  {
   "cell_type": "code",
   "execution_count": 15,
   "id": "06849bd2-2777-48f4-8abd-d66f10ab2307",
   "metadata": {
    "tags": []
   },
   "outputs": [],
   "source": [
    "from tensorflow.keras.callbacks import LearningRateScheduler\n",
    "\n",
    "def scheduler(epoch, lr):\n",
    "    if epoch < 10:\n",
    "        return lr\n",
    "    return lr * tf.math.exp(-0.1)\n",
    "\n",
    "CALLBACKS = lr_schedule = LearningRateScheduler(scheduler)"
   ]
  },
  {
   "cell_type": "code",
   "execution_count": 5,
   "id": "0d6b6c63-4145-40c0-85f6-26d668f64687",
   "metadata": {
    "tags": []
   },
   "outputs": [],
   "source": [
    "def build_model(input_shape):\n",
    "    x = x_in = Input(shape=input_shape, name=\"input_layer\")\n",
    "    a = QConv2D(\n",
    "        32, (2, 2), strides=(2, 2),\n",
    "        kernel_quantizer=quantized_bits(W, I, 1),\n",
    "        bias_quantizer=quantized_bits(W, I, 1),\n",
    "        name=\"conv2d_L1\")(x)\n",
    "    b = QActivation(\"quantized_relu(4, 0)\", name=\"activation_1\")(a)\n",
    "    c = QConv2D(\n",
    "        64, (3, 3), strides=(2, 2),\n",
    "        kernel_quantizer=quantized_bits(W, I, 1),\n",
    "        bias_quantizer=quantized_bits(W, I, 1),\n",
    "        name=\"conv2d_L2\")(b)\n",
    "    d = QActivation(\"quantized_relu(4, 0)\", name=\"activation_2\")(c)\n",
    "    e = QConv2D(\n",
    "        64, (2, 2), strides=(2, 2),\n",
    "        kernel_quantizer=quantized_bits(W, I, 1),\n",
    "        bias_quantizer=quantized_bits(W, I, 1),\n",
    "        name=\"conv2d_L3\")(d)\n",
    "    f = QActivation(\"quantized_relu(4, 0)\", name=\"activation_3\")(e)\n",
    "    g = Flatten()(f)\n",
    "    h = QDense(NB_CLASSES, kernel_quantizer=quantized_bits(W, I, 1),\n",
    "                   bias_quantizer=quantized_bits(W, I, 1),\n",
    "                   name=\"dense\")(g)\n",
    "    i = Activation(\"softmax\", name=\"Softmax\")(h)\n",
    "\n",
    "    model = Model(inputs=[x_in], outputs=[i])\n",
    "    return model"
   ]
  },
  {
   "cell_type": "code",
   "execution_count": 16,
   "id": "9ba848ce-7496-4ac9-94c0-e9961ed1fcef",
   "metadata": {
    "tags": []
   },
   "outputs": [],
   "source": [
    "def train_and_save(model, x_train, y_train, x_test, y_test):\n",
    "    model.compile(\n",
    "        loss=\"categorical_crossentropy\",\n",
    "     #   loss=\"sparse_categorical_crossentropy\",\n",
    "     #   loss= keras.losses.SparseCategoricalCrossentropy(from_logits=True),\n",
    "        optimizer= OPTIMIZER,\n",
    "        metrics=[\"accuracy\"])\n",
    "    \n",
    "    # Print the model summary.\n",
    "    model.summary()\n",
    "    \n",
    "  #  callbacks=[\n",
    "   #     gradual_qnoise_callback_4\n",
    "    #]\n",
    "    \n",
    "    model.fit(\n",
    "        x_train,\n",
    "        y_train,\n",
    "        batch_size=BATCH_SIZE,\n",
    "        epochs=NB_EPOCH,\n",
    "        validation_split=VALIDATION_SPLIT,\n",
    "        verbose=VERBOSE,\n",
    "        callbacks=[CALLBACKS],\n",
    "        validation_data=(x_test, y_test))\n",
    "    \n",
    "    score = model.evaluate(x_test, y_test, verbose=0)\n",
    "    print(\"Test loss:\", score[0])\n",
    "    print(\"Test accuracy:\", score[1])\n",
    "\n",
    "    print_model_sparsity(model)\n",
    "    \n",
    "    # Export and import the model. Check that accuracy persists.\n",
    "    _, keras_file = tempfile.mkstemp(suffix=\".keras\")  # Ensure the suffix is .keras\n",
    "    print(\"Saving model to:\", keras_file)\n",
    "    # Save the model in the new .keras format\n",
    "    #save_model(model, keras_file)\n",
    "    model.save(\"modelx.keras\", save_format=\"keras\")\n",
    "    print(\"Model saved to modelx.keras\")\n",
    "    print_qstats(model)"
   ]
  },
  {
   "cell_type": "code",
   "execution_count": 7,
   "id": "291e9227-6b84-4608-8477-ff9b62b8a7e7",
   "metadata": {
    "tags": []
   },
   "outputs": [],
   "source": [
    "data = np.load('/home/mindspore/work/mnist.npz')\n",
    "x_train, y_train = data['x_train'], data['y_train']\n",
    "x_test, y_test = data['x_test'], data['y_test']"
   ]
  },
  {
   "cell_type": "code",
   "execution_count": 8,
   "id": "868e5682-85ef-4ca1-8671-cafc1f571fd5",
   "metadata": {
    "tags": []
   },
   "outputs": [],
   "source": [
    "img_rows, img_cols = 28, 28\n",
    "\n",
    "if K.image_data_format() == \"channels_first\":\n",
    "    x_train = x_train.reshape(x_train.shape[0], 1, img_rows, img_cols)\n",
    "    x_test = x_test.reshape(x_test.shape[0], 1, img_rows, img_cols)\n",
    "    input_shape = (1, img_rows, img_cols)\n",
    "else:\n",
    "    x_train = x_train.reshape(x_train.shape[0], img_rows, img_cols, 1)\n",
    "    x_test = x_test.reshape(x_test.shape[0], img_rows, img_cols, 1)\n",
    "    input_shape = (img_rows, img_cols, 1)"
   ]
  },
  {
   "cell_type": "code",
   "execution_count": 9,
   "id": "2954d003-1270-4d97-91ff-3e2436aa8c97",
   "metadata": {
    "tags": []
   },
   "outputs": [
    {
     "name": "stdout",
     "output_type": "stream",
     "text": [
      "x_train shape: (60000, 28, 28, 1)\n",
      "60000 train samples\n",
      "10000 test samples\n"
     ]
    }
   ],
   "source": [
    "x_train = x_train.astype(\"float32\")\n",
    "x_test = x_test.astype(\"float32\")\n",
    "x_train /= 255\n",
    "x_test /= 255\n",
    "print(\"x_train shape:\", x_train.shape)\n",
    "print(x_train.shape[0], \"train samples\")\n",
    "print(x_test.shape[0], \"test samples\")\n",
    "\n",
    "# convert class vectors to binary class matrices //one-hot key 0-9 class matrice lable 0/1\n",
    "y_train = to_categorical(y_train, NB_CLASSES)\n",
    "y_test = to_categorical(y_test, NB_CLASSES)"
   ]
  },
  {
   "cell_type": "code",
   "execution_count": 10,
   "id": "39f3d269-8ed1-4a68-8328-ac36c2fa70f0",
   "metadata": {
    "tags": []
   },
   "outputs": [],
   "source": [
    "\n",
    "model = build_model(input_shape)\n"
   ]
  },
  {
   "cell_type": "code",
   "execution_count": null,
   "id": "a02c2a01-6c3b-4f3a-a121-ad1015ccc49d",
   "metadata": {
    "tags": []
   },
   "outputs": [],
   "source": [
    "\n",
    "#train model and save data\n",
    "\n",
    "train_and_save(model, x_train, y_train, x_test, y_test)\n",
    "\n"
   ]
  },
  {
   "cell_type": "code",
   "execution_count": null,
   "id": "609a98bb-e5d2-4921-bab8-910006259426",
   "metadata": {
    "tags": []
   },
   "outputs": [],
   "source": [
    "print(\"Reloading model\")\n",
    "    \n",
    "with custom_object_scope({'TFOpLambda': Lambda}):\n",
    "        loaded_model = load_qmodel('modelx.keras')\n",
    "\n",
    "loaded_model.summary()  \n",
    "\n",
    "score = model.evaluate(x_test, y_test, verbose=0)\n",
    "print(\"Test loss:\", score[0])\n",
    "print(\"Test accuracy:\", score[1])"
   ]
  }
 ],
 "metadata": {
  "kernelspec": {
   "display_name": "Python 3 (ipykernel)",
   "language": "python",
   "name": "python3"
  },
  "language_info": {
   "codemirror_mode": {
    "name": "ipython",
    "version": 3
   },
   "file_extension": ".py",
   "mimetype": "text/x-python",
   "name": "python",
   "nbconvert_exporter": "python",
   "pygments_lexer": "ipython3",
   "version": "3.9.20"
  }
 },
 "nbformat": 4,
 "nbformat_minor": 5
}
